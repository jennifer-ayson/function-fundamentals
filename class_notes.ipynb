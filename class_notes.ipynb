{
 "cells": [
  {
   "cell_type": "markdown",
   "metadata": {},
   "source": [
    "## Python Function Fundamentals \n",
    "\n",
    "This notebook covers the basics of Python functions, including how to define, call, and use effectively in your code."
   ]
  },
  {
   "cell_type": "markdown",
   "metadata": {},
   "source": [
    "## Introduction to Functions\n",
    "\n",
    "A **function** is a block of code that performs a specific task. Functions help to organize code, avoid repitition, and make it easier to manange and debug.\n",
    "\n",
    "**Why use functions?**\n",
    "\n",
    "* They help break down complex problems into smaller, manageable tasks. \n",
    "* They promote reusability.\n",
    "* They make your code more readable and organized.\n"
   ]
  },
  {
   "cell_type": "markdown",
   "metadata": {},
   "source": [
    "## Defining and Function\n",
    "\n",
    "In Python, you can define a function using...\n",
    "\n",
    "1. The **def** keyword.\n",
    "2. Followed by the name of the function.\n",
    "3. Followed bu parantheses () containig the names of the inputs of the function, if any, seperated by commas.\n",
    "4. Followed by a colon.\n",
    "5. The function body will be indented lines of code under this line using the input variables.\n",
    "6. The function may return an output using the **return** keyword at the end of the body of the function.\n",
    "\n",
    "    def function_name(comma, separated, inputs):\n",
    "        #function body doing stuff to inputs\n",
    "        #optional\n",
    "        return output"
   ]
  },
  {
   "cell_type": "code",
   "execution_count": 6,
   "metadata": {},
   "outputs": [
    {
     "name": "stdout",
     "output_type": "stream",
     "text": [
      "Hello!\n"
     ]
    }
   ],
   "source": [
    "# Function with no inputs and no return\n",
    "\n",
    "def generic_greeting():\n",
    "    print(\"Hello!\")"
   ]
  },
  {
   "cell_type": "code",
   "execution_count": 9,
   "metadata": {},
   "outputs": [
    {
     "name": "stdout",
     "output_type": "stream",
     "text": [
      "Hello!\n"
     ]
    }
   ],
   "source": [
    "generic_greeting()"
   ]
  },
  {
   "cell_type": "code",
   "execution_count": 11,
   "metadata": {},
   "outputs": [
    {
     "name": "stdout",
     "output_type": "stream",
     "text": [
      "Hello!\n"
     ]
    }
   ],
   "source": [
    "x = generic_greeting()"
   ]
  },
  {
   "cell_type": "code",
   "execution_count": 12,
   "metadata": {},
   "outputs": [
    {
     "name": "stdout",
     "output_type": "stream",
     "text": [
      "None\n"
     ]
    }
   ],
   "source": [
    "print(x)"
   ]
  },
  {
   "cell_type": "code",
   "execution_count": 13,
   "metadata": {},
   "outputs": [
    {
     "data": {
      "text/plain": [
       "NoneType"
      ]
     },
     "execution_count": 13,
     "metadata": {},
     "output_type": "execute_result"
    }
   ],
   "source": [
    "type(x)"
   ]
  },
  {
   "cell_type": "markdown",
   "metadata": {},
   "source": [
    "## Function Inputs (Parameters)\n",
    "\n",
    "Functions can take inputs, called parameters, to work with different data.\n",
    "\n",
    "* **Positional Arguments:** Inputs that need to be passed in the correct order.\n",
    "* **Keyword Arguments:** Inputs that are passed using the parameter name.\n",
    "* **Default Values**: Parameters that have default values if no argument is provided."
   ]
  },
  {
   "cell_type": "code",
   "execution_count": 15,
   "metadata": {},
   "outputs": [],
   "source": [
    "# Function with one iput and no return\n",
    "\n",
    "def custom_greeting(name):\n",
    "    print(\"Hello\", name)"
   ]
  },
  {
   "cell_type": "code",
   "execution_count": 16,
   "metadata": {},
   "outputs": [
    {
     "name": "stdout",
     "output_type": "stream",
     "text": [
      "Hello Jessica\n"
     ]
    }
   ],
   "source": [
    "custom_greeting(\"Jessica\")"
   ]
  },
  {
   "cell_type": "code",
   "execution_count": 18,
   "metadata": {},
   "outputs": [],
   "source": [
    "# Function with two inputs and no retun\n",
    "def full_name_custom_greeting(first_name, last_name):\n",
    "    print(\"Hello\", first_name, last_name)"
   ]
  },
  {
   "cell_type": "code",
   "execution_count": 19,
   "metadata": {},
   "outputs": [
    {
     "name": "stdout",
     "output_type": "stream",
     "text": [
      "Hello Jessica De Silva\n"
     ]
    }
   ],
   "source": [
    "full_name_custom_greeting(\"Jessica\", \"De Silva\")"
   ]
  },
  {
   "cell_type": "code",
   "execution_count": 20,
   "metadata": {},
   "outputs": [
    {
     "name": "stdout",
     "output_type": "stream",
     "text": [
      "Hello Jessica De Silva\n"
     ]
    }
   ],
   "source": [
    "# Can use different ordering if keywords specified\n",
    "full_name_custom_greeting(last_name=\"De Silva\", first_name=\"Jessica\")"
   ]
  },
  {
   "cell_type": "code",
   "execution_count": 24,
   "metadata": {},
   "outputs": [],
   "source": [
    "def full_name_custom_greeting_punctuation(first_name, last_name, punct=\".\"):\n",
    "    print(f\"Hello {first_name} {last_name}{punct}\")"
   ]
  },
  {
   "cell_type": "code",
   "execution_count": 25,
   "metadata": {},
   "outputs": [
    {
     "name": "stdout",
     "output_type": "stream",
     "text": [
      "Hello Jessica De Silva!\n"
     ]
    }
   ],
   "source": [
    "full_name_custom_greeting_punctuation(\"Jessica\", \"De Silva\", \"!\")"
   ]
  },
  {
   "cell_type": "code",
   "execution_count": 26,
   "metadata": {},
   "outputs": [
    {
     "name": "stdout",
     "output_type": "stream",
     "text": [
      "Hello Jessica De Silva.\n"
     ]
    }
   ],
   "source": [
    "# If punct not specified, . is used \n",
    "full_name_custom_greeting_punctuation(\"Jessica\", \"De Silva\")"
   ]
  },
  {
   "cell_type": "markdown",
   "metadata": {},
   "source": [
    "# Function Outputs (Return Values)\n",
    "\n",
    "A function can return a value using the **return** statement. This allows you to store the result of a function into a variable and use it elsewhere in your code. "
   ]
  },
  {
   "cell_type": "code",
   "execution_count": 27,
   "metadata": {},
   "outputs": [],
   "source": [
    "# Function with two inputs and one output \n",
    "def sum_numbers (x, y):\n",
    "    return x + y"
   ]
  },
  {
   "cell_type": "code",
   "execution_count": 28,
   "metadata": {},
   "outputs": [
    {
     "data": {
      "text/plain": [
       "5"
      ]
     },
     "execution_count": 28,
     "metadata": {},
     "output_type": "execute_result"
    }
   ],
   "source": [
    "sum_numbers(3,2)"
   ]
  },
  {
   "cell_type": "code",
   "execution_count": 29,
   "metadata": {},
   "outputs": [],
   "source": [
    "x = sum_numbers(3,2)"
   ]
  },
  {
   "cell_type": "code",
   "execution_count": 30,
   "metadata": {},
   "outputs": [
    {
     "name": "stdout",
     "output_type": "stream",
     "text": [
      "5\n"
     ]
    }
   ],
   "source": [
    "print(x)"
   ]
  },
  {
   "cell_type": "markdown",
   "metadata": {},
   "source": [
    "If an input is a **pair** like (3,2), you can extract the coordinates using the Python's \"unpacking\" method."
   ]
  },
  {
   "cell_type": "code",
   "execution_count": 31,
   "metadata": {},
   "outputs": [],
   "source": [
    "def unpacking_example(ordered_pair):\n",
    "    # Unpacking to extract coordinates\n",
    "    x, y = ordered_pair\n",
    "    print(f\"x = {x}, y = {y}\")"
   ]
  },
  {
   "cell_type": "code",
   "execution_count": 32,
   "metadata": {},
   "outputs": [
    {
     "name": "stdout",
     "output_type": "stream",
     "text": [
      "x = 5, y = 6\n"
     ]
    }
   ],
   "source": [
    "unpacking_example((5,6))"
   ]
  },
  {
   "cell_type": "code",
   "execution_count": 33,
   "metadata": {},
   "outputs": [],
   "source": [
    "# This is wrong, only one input not two\n",
    "# unpacking_example(5,6)\n"
   ]
  },
  {
   "cell_type": "code",
   "execution_count": 34,
   "metadata": {},
   "outputs": [
    {
     "data": {
      "text/plain": [
       "(5, 6, 6, 8)"
      ]
     },
     "execution_count": 34,
     "metadata": {},
     "output_type": "execute_result"
    }
   ],
   "source": [
    "(5,6) + (6,8)"
   ]
  },
  {
   "cell_type": "code",
   "execution_count": 35,
   "metadata": {},
   "outputs": [
    {
     "data": {
      "text/plain": [
       "'HelloJoe'"
      ]
     },
     "execution_count": 35,
     "metadata": {},
     "output_type": "execute_result"
    }
   ],
   "source": [
    "\"Hello\" + \"Joe\""
   ]
  },
  {
   "cell_type": "markdown",
   "metadata": {},
   "source": [
    "## Example\n",
    "\n",
    "1. Create a function called calculate_tax which takes in as inputs the food price, and the tax percentage as a decimal. Come up with a default value for the tax percentage. Return the tax amount.\n",
    "\n",
    "2. Create another function called calculate_tip which takes in as inputs the food price, and the tip as a percentage (decimal). Come up with a default value for the tip percentage. Return the tip amount. \n",
    "\n",
    "3. Create a function called calculate_total which takes in as an input the food price and outputs the total cost of the meal including tax and tip (using default values). This function should call the two functions we already created within the body of this function."
   ]
  },
  {
   "cell_type": "markdown",
   "metadata": {},
   "source": []
  }
 ],
 "metadata": {
  "kernelspec": {
   "display_name": "Python 3",
   "language": "python",
   "name": "python3"
  },
  "language_info": {
   "codemirror_mode": {
    "name": "ipython",
    "version": 3
   },
   "file_extension": ".py",
   "mimetype": "text/x-python",
   "name": "python",
   "nbconvert_exporter": "python",
   "pygments_lexer": "ipython3",
   "version": "3.12.1"
  }
 },
 "nbformat": 4,
 "nbformat_minor": 2
}
