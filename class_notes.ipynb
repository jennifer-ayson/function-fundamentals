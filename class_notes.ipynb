{
 "cells": [
  {
   "cell_type": "markdown",
   "metadata": {},
   "source": [
    "## Python Function Fundamentals \n",
    "\n",
    "This notebook covers the basics of Python functions, including how to define, call, and use effectively in your code."
   ]
  },
  {
   "cell_type": "markdown",
   "metadata": {},
   "source": [
    "## Introduction to Functions\n",
    "\n",
    "A **function** is a block of code that performs a specific task. Functions help to organize code, avoid repitition, and make it easier to manange and debug.\n",
    "\n",
    "**Why use functions?**\n",
    "\n",
    "* They help break down complex problems into smaller, manageable tasks. \n",
    "* They promote reusability.\n",
    "* They make your code more readable and organized.\n"
   ]
  },
  {
   "cell_type": "markdown",
   "metadata": {},
   "source": [
    "## Defining and Function\n",
    "\n",
    "In Python, you can define a function using...\n",
    "\n",
    "1. The **def** keyword.\n",
    "2. Followed by the name of the function.\n",
    "3. Followed bu parantheses () containig the names of the inputs of the function, if any, seperated by commas.\n",
    "4. Followed by a colon.\n",
    "5. The function body will be indented lines of code under this line using the input variables.\n",
    "6. The function may return an output using the **return** keyword at the end of the body of the function.\n",
    "\n",
    "    def function_name(comma, separated, inputs):\n",
    "        #function body doing stuff to inputs\n",
    "        #optional\n",
    "        return output"
   ]
  },
  {
   "cell_type": "code",
   "execution_count": null,
   "metadata": {
    "vscode": {
     "languageId": "plaintext"
    }
   },
   "outputs": [],
   "source": [
    "# Function with no inputs and no return\n",
    "\n",
    "def generic_greeeting():\n",
    "    print(\"Hello!\")"
   ]
  },
  {
   "cell_type": "markdown",
   "metadata": {},
   "source": []
  }
 ],
 "metadata": {
  "language_info": {
   "name": "python"
  }
 },
 "nbformat": 4,
 "nbformat_minor": 2
}
